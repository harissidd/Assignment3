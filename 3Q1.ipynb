{
 "cells": [
  {
   "cell_type": "code",
   "execution_count": 2,
   "metadata": {},
   "outputs": [
    {
     "name": "stdout",
     "output_type": "stream",
     "text": [
      "Enter First Value : 12\n",
      "Enter Second value : 15\n",
      "Enter Your Desire Operator : +\n",
      "Answer is  27\n"
     ]
    }
   ],
   "source": [
    "num1 = int(input(\"Enter First Value : \"))\n",
    "num2 = int(input(\"Enter Second value : \"))\n",
    "operator = input(\"Enter Your Desire Operator : \")\n",
    "if (operator == '+'):\n",
    "    val = num1 + num2\n",
    "    print (\"Answer is \",val);\n",
    "elif (operator == '-'):\n",
    "    val = num1 - num2 \n",
    "    print (\"Answer is \",val);\n",
    "elif (operator == '*'):\n",
    "    val = num1 *num2\n",
    "    print (\"Answer is \",val);\n",
    "elif (operator == '/'):\n",
    "    val = num1 /num2\n",
    "    print (\"Answer is \",val);\n",
    "elif (operator == 'sqr'):\n",
    "    val = pow(num1,2)\n",
    "    val1 = pow(num2,2)\n",
    "    print (\"power is \", val );\n",
    "    print (\"power is \" ,val1);\n",
    "else:\n",
    "    print (\"Invalid answer\");"
   ]
  },
  {
   "cell_type": "code",
   "execution_count": null,
   "metadata": {},
   "outputs": [],
   "source": []
  }
 ],
 "metadata": {
  "kernelspec": {
   "display_name": "Python 3",
   "language": "python",
   "name": "python3"
  },
  "language_info": {
   "codemirror_mode": {
    "name": "ipython",
    "version": 3
   },
   "file_extension": ".py",
   "mimetype": "text/x-python",
   "name": "python",
   "nbconvert_exporter": "python",
   "pygments_lexer": "ipython3",
   "version": "3.7.4"
  }
 },
 "nbformat": 4,
 "nbformat_minor": 2
}
