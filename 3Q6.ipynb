{
 "cells": [
  {
   "cell_type": "code",
   "execution_count": 1,
   "metadata": {},
   "outputs": [
    {
     "name": "stdout",
     "output_type": "stream",
     "text": [
      "Key is present\n",
      "key is not present\n"
     ]
    }
   ],
   "source": [
    "info = {\n",
    "    1 : 10,\n",
    "    2 :20,\n",
    "    3:30,\n",
    "    4:40,\n",
    "    5:50\n",
    "}\n",
    "def present(x):\n",
    "    if x in info:\n",
    "        print (\"Key is present\")\n",
    "    else:\n",
    "        print (\"key is not present\")\n",
    "present(4)\n",
    "present(6)"
   ]
  },
  {
   "cell_type": "code",
   "execution_count": null,
   "metadata": {},
   "outputs": [],
   "source": []
  }
 ],
 "metadata": {
  "kernelspec": {
   "display_name": "Python 3",
   "language": "python",
   "name": "python3"
  },
  "language_info": {
   "codemirror_mode": {
    "name": "ipython",
    "version": 3
   },
   "file_extension": ".py",
   "mimetype": "text/x-python",
   "name": "python",
   "nbconvert_exporter": "python",
   "pygments_lexer": "ipython3",
   "version": "3.7.4"
  }
 },
 "nbformat": 4,
 "nbformat_minor": 2
}
