{
 "cells": [
  {
   "cell_type": "code",
   "execution_count": 3,
   "metadata": {},
   "outputs": [
    {
     "name": "stdout",
     "output_type": "stream",
     "text": [
      "cityschool\n"
     ]
    }
   ],
   "source": [
    "info = {\n",
    "    \"first_name\" : \"Ali\",\n",
    "    \"last_name\" : \"Khan\",\n",
    "    \"Designation\" : \"Student\"\n",
    "}\n",
    "info[\"School\" ] = \"cityschool\"\n",
    "print (info[\"School\"])"
   ]
  },
  {
   "cell_type": "code",
   "execution_count": 2,
   "metadata": {},
   "outputs": [
    {
     "name": "stdout",
     "output_type": "stream",
     "text": [
      "cityschool\n"
     ]
    }
   ],
   "source": [
    "info = {\n",
    "    \"first_name\" : \"Ali\",\n",
    "    \"last_name\" : \"Khan\",\n",
    "    \"Designation\" : \"Student\"\n",
    "}\n",
    "info[\"School\" ] = \"cityschool\"\n",
    "print (info[\"School\"])"
   ]
  },
  {
   "cell_type": "code",
   "execution_count": null,
   "metadata": {},
   "outputs": [],
   "source": []
  }
 ],
 "metadata": {
  "kernelspec": {
   "display_name": "Python 3",
   "language": "python",
   "name": "python3"
  },
  "language_info": {
   "codemirror_mode": {
    "name": "ipython",
    "version": 3
   },
   "file_extension": ".py",
   "mimetype": "text/x-python",
   "name": "python",
   "nbconvert_exporter": "python",
   "pygments_lexer": "ipython3",
   "version": "3.7.4"
  }
 },
 "nbformat": 4,
 "nbformat_minor": 2
}
